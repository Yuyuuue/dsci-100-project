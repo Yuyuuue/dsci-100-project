{
 "cells": [
  {
   "cell_type": "code",
   "execution_count": null,
   "id": "1814ef32-37c3-4d9b-9c0e-33d5d4942e9b",
   "metadata": {},
   "outputs": [],
   "source": [
    "sth sth sth sth hhs"
   ]
  }
 ],
 "metadata": {
  "kernelspec": {
   "display_name": "R",
   "language": "R",
   "name": "ir"
  },
  "language_info": {
   "codemirror_mode": "r",
   "file_extension": ".r",
   "mimetype": "text/x-r-source",
   "name": "R",
   "pygments_lexer": "r",
   "version": "4.3.3"
  }
 },
 "nbformat": 4,
 "nbformat_minor": 5
}
